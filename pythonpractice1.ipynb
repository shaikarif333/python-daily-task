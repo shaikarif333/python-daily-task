{
  "nbformat": 4,
  "nbformat_minor": 0,
  "metadata": {
    "colab": {
      "provenance": [],
      "include_colab_link": true
    },
    "kernelspec": {
      "name": "python3",
      "display_name": "Python 3"
    },
    "language_info": {
      "name": "python"
    }
  },
  "cells": [
    {
      "cell_type": "markdown",
      "metadata": {
        "id": "view-in-github",
        "colab_type": "text"
      },
      "source": [
        "<a href=\"https://colab.research.google.com/github/shaikarif333/python-daily-task/blob/main/pythonpractice1.ipynb\" target=\"_parent\"><img src=\"https://colab.research.google.com/assets/colab-badge.svg\" alt=\"Open In Colab\"/></a>"
      ]
    },
    {
      "cell_type": "markdown",
      "source": [
        "Activity 1"
      ],
      "metadata": {
        "id": "lX-wJtZ498kv"
      }
    },
    {
      "cell_type": "code",
      "execution_count": 1,
      "metadata": {
        "colab": {
          "base_uri": "https://localhost:8080/"
        },
        "id": "Ps-FLzNi9Rmm",
        "outputId": "7c2b20b4-7a4f-4748-aa01-6507874a3a04"
      },
      "outputs": [
        {
          "output_type": "stream",
          "name": "stdout",
          "text": [
            "Enter the radius 5\n",
            "Area of the circle is: 78.53975\n"
          ]
        }
      ],
      "source": [
        "def circle_area (radius):\n",
        "    pi = 3.14159\n",
        "    area = pi * radius ** 2\n",
        "    return area\n",
        "n1=int(input('Enter the radius '))\n",
        "a = circle_area(n1)\n",
        "print(\"Area of the circle is:\", a)"
      ]
    },
    {
      "cell_type": "markdown",
      "source": [
        "Activity 2"
      ],
      "metadata": {
        "id": "eX3y4A3Z-uDP"
      }
    },
    {
      "cell_type": "code",
      "source": [
        "name=input('Enter the name: ')\n",
        "roll_no=int(input('Enter the roll number: '))\n",
        "mark=int(input('Enter the mark: '))\n",
        "print(f\"Name:{name}\\nRoll No: {roll_no}\\nMark: {mark}\")"
      ],
      "metadata": {
        "colab": {
          "base_uri": "https://localhost:8080/"
        },
        "id": "ixvebjUf-wQu",
        "outputId": "ec025885-0a15-4439-d544-06f877653bef"
      },
      "execution_count": 2,
      "outputs": [
        {
          "output_type": "stream",
          "name": "stdout",
          "text": [
            "Enter the name: shaik arif\n",
            "Enter the roll number: 3\n",
            "Enter the mark: 55\n",
            "Name:shaik arif\n",
            "Roll No: 3\n",
            "Mark: 55\n"
          ]
        }
      ]
    },
    {
      "cell_type": "markdown",
      "source": [
        "Activity 3"
      ],
      "metadata": {
        "id": "phDx_ALLAbap"
      }
    },
    {
      "cell_type": "code",
      "source": [
        "def largest(num):\n",
        "     largest = num[0]\n",
        "     for n in num:\n",
        "        if n > largest:\n",
        "            largest = n\n",
        "     return largest\n",
        "s=int(input('What is the size of list '))\n",
        "d=[]\n",
        "su=0\n",
        "for i in range(s):\n",
        "  num=int(input('Number= '))\n",
        "  d.append(num)\n",
        "print(d)\n",
        "l=largest(d)\n",
        "print(f'{l} is the largest number')"
      ],
      "metadata": {
        "colab": {
          "base_uri": "https://localhost:8080/"
        },
        "id": "2Ba2NOHG_mMe",
        "outputId": "16a7fa74-d32f-4e37-a463-063fad2a24e1"
      },
      "execution_count": 3,
      "outputs": [
        {
          "output_type": "stream",
          "name": "stdout",
          "text": [
            "What is the size of list 3\n",
            "Number= 2\n",
            "Number= 3\n",
            "Number= 5\n",
            "[2, 3, 5]\n",
            "5 is the largest number\n"
          ]
        }
      ]
    },
    {
      "cell_type": "markdown",
      "source": [
        "Activity 4"
      ],
      "metadata": {
        "id": "zD2mayFsJr-B"
      }
    },
    {
      "cell_type": "code",
      "source": [
        "def sum(f,l):\n",
        "    num1 = f -1\n",
        "    for num2 in range(f, l +1):\n",
        "        sum = num2 + num1\n",
        "        print(f\"Current Number {num2} Previous Number {num1} Sum: {sum}\")\n",
        "        num1 = num2\n",
        "first=int(input('First number= '))\n",
        "end=int(input('Last number= '))\n",
        "sum(first,end)"
      ],
      "metadata": {
        "id": "ozbsrXsRBTt7",
        "colab": {
          "base_uri": "https://localhost:8080/"
        },
        "outputId": "20245b0d-1adf-4a6f-8d0a-62ae1007e9f0"
      },
      "execution_count": 4,
      "outputs": [
        {
          "output_type": "stream",
          "name": "stdout",
          "text": [
            "First number= 2\n",
            "Last number= 5\n",
            "Current Number 2 Previous Number 1 Sum: 3\n",
            "Current Number 3 Previous Number 2 Sum: 5\n",
            "Current Number 4 Previous Number 3 Sum: 7\n",
            "Current Number 5 Previous Number 4 Sum: 9\n"
          ]
        }
      ]
    },
    {
      "cell_type": "markdown",
      "source": [
        "Activity 5"
      ],
      "metadata": {
        "id": "U6jXwgCZM0oG"
      }
    },
    {
      "cell_type": "code",
      "source": [
        "def div(s,e):\n",
        " for i in range(s,e+1):\n",
        "  if(i%5==0):\n",
        "    print(i,end=\" \")\n",
        "s=int(input('What is the starting range '))\n",
        "e=int(input('What is the ending range '))\n",
        "div(s,e)"
      ],
      "metadata": {
        "colab": {
          "base_uri": "https://localhost:8080/"
        },
        "id": "qpjCd9EYM2KJ",
        "outputId": "0b25f8b3-e67e-4591-9f30-df22caca6c8d"
      },
      "execution_count": 5,
      "outputs": [
        {
          "output_type": "stream",
          "name": "stdout",
          "text": [
            "What is the starting range 2\n",
            "What is the ending range 5\n",
            "5 "
          ]
        }
      ]
    },
    {
      "cell_type": "markdown",
      "source": [
        "Activity 6"
      ],
      "metadata": {
        "id": "6l1SvkNtNHJ7"
      }
    },
    {
      "cell_type": "code",
      "source": [
        "prime=int(input('Enter a number '))\n",
        "def prm(p):\n",
        " for i in range(2,p):\n",
        "   if(p%i==0):\n",
        "    return print(f'{p} is not a prime')\n",
        "    break\n",
        " else:\n",
        "  return print(f'{p} is a prime')\n",
        "prm(prime)"
      ],
      "metadata": {
        "colab": {
          "base_uri": "https://localhost:8080/"
        },
        "id": "-f2KwUDJNIzF",
        "outputId": "846474ea-b12a-4c7c-b759-9914eb6bb26f"
      },
      "execution_count": 6,
      "outputs": [
        {
          "output_type": "stream",
          "name": "stdout",
          "text": [
            "Enter a number 6\n",
            "6 is not a prime\n"
          ]
        }
      ]
    },
    {
      "cell_type": "markdown",
      "source": [
        "Activity 7"
      ],
      "metadata": {
        "id": "7MO8XLIJNoyM"
      }
    },
    {
      "cell_type": "code",
      "source": [
        "def reverse(list1):\n",
        "    rlist = []\n",
        "    l=len(list1)\n",
        "    for i in range(l-1,-1, -1):\n",
        "        rlist.append(list1[i])\n",
        "    return rlist\n",
        "s=int(input('What is the size of list '))\n",
        "list1=[]\n",
        "su=0\n",
        "for i in range(s):\n",
        "  num=int(input('Number= '))\n",
        "  list1.append(num)\n",
        "list2 = reverse(list1)\n",
        "print(\"Original List:\", list1)\n",
        "print(\"Reversed List:\", list2)\n"
      ],
      "metadata": {
        "colab": {
          "base_uri": "https://localhost:8080/"
        },
        "id": "MIeld1rVNrN6",
        "outputId": "b91b603c-41b2-4358-ec1a-a55599e38562"
      },
      "execution_count": 7,
      "outputs": [
        {
          "output_type": "stream",
          "name": "stdout",
          "text": [
            "What is the size of list 4\n",
            "Number= 1\n",
            "Number= 2\n",
            "Number= 3\n",
            "Number= 4\n",
            "Original List: [1, 2, 3, 4]\n",
            "Reversed List: [4, 3, 2, 1]\n"
          ]
        }
      ]
    },
    {
      "cell_type": "markdown",
      "source": [
        "Activity 8"
      ],
      "metadata": {
        "id": "upgWdwOCQIN3"
      }
    },
    {
      "cell_type": "code",
      "source": [
        "def pattern(row):\n",
        "    for i in range(1, row + 1):\n",
        "        for j in range(1, i + 1):\n",
        "            print('*', end='')\n",
        "        print('\\n')\n",
        "pattern(4)\n"
      ],
      "metadata": {
        "colab": {
          "base_uri": "https://localhost:8080/"
        },
        "id": "wrkw-gR2QLCZ",
        "outputId": "693b6e3b-ecb2-473b-bf1d-0390a2e8d3fa"
      },
      "execution_count": 8,
      "outputs": [
        {
          "output_type": "stream",
          "name": "stdout",
          "text": [
            "*\n",
            "\n",
            "**\n",
            "\n",
            "***\n",
            "\n",
            "****\n",
            "\n"
          ]
        }
      ]
    },
    {
      "cell_type": "markdown",
      "source": [
        "Activity 9"
      ],
      "metadata": {
        "id": "IwRfGj43Qgaa"
      }
    },
    {
      "cell_type": "code",
      "source": [
        "def maximum(num1, num2, num3):\n",
        "    result = max(num1, num2, num3)\n",
        "    return result\n",
        "n1=int(input('Enter a number '))\n",
        "n2=int(input('Enter a number '))\n",
        "n3=int(input('Enter a number '))\n",
        "m = maximum(n1, n2, n3)\n",
        "print(\"Maximum number is:\", m)"
      ],
      "metadata": {
        "colab": {
          "base_uri": "https://localhost:8080/"
        },
        "id": "8IIAGs-9QjNL",
        "outputId": "1c6752ae-ab56-40c5-da1b-d021bf35c3e0"
      },
      "execution_count": 9,
      "outputs": [
        {
          "output_type": "stream",
          "name": "stdout",
          "text": [
            "Enter a number 7\n",
            "Enter a number 4\n",
            "Enter a number 5\n",
            "Maximum number is: 7\n"
          ]
        }
      ]
    },
    {
      "cell_type": "markdown",
      "source": [
        "Activity 10"
      ],
      "metadata": {
        "id": "d_d5rmpYRDkz"
      }
    },
    {
      "cell_type": "code",
      "source": [
        "def pattern(row):\n",
        "    for i in range(1, row + 1):\n",
        "        for j in range(1, i + 1):\n",
        "            print('*', end='')\n",
        "        print('\\n')\n",
        "    for i in range(row - 1, 0, -1):\n",
        "        for j in range(1, i + 1):\n",
        "            print('*', end='')\n",
        "        print('\\n')\n",
        "pattern(5)"
      ],
      "metadata": {
        "colab": {
          "base_uri": "https://localhost:8080/"
        },
        "id": "XMmEj7R5Q_G3",
        "outputId": "5d420164-e938-4a79-991a-2a8afdc55f4c"
      },
      "execution_count": 10,
      "outputs": [
        {
          "output_type": "stream",
          "name": "stdout",
          "text": [
            "*\n",
            "\n",
            "**\n",
            "\n",
            "***\n",
            "\n",
            "****\n",
            "\n",
            "*****\n",
            "\n",
            "****\n",
            "\n",
            "***\n",
            "\n",
            "**\n",
            "\n",
            "*\n",
            "\n"
          ]
        }
      ]
    }
  ]
}
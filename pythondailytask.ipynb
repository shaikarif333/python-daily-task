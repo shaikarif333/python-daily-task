{
  "nbformat": 4,
  "nbformat_minor": 0,
  "metadata": {
    "colab": {
      "provenance": []
    },
    "kernelspec": {
      "name": "python3",
      "display_name": "Python 3"
    },
    "language_info": {
      "name": "python"
    }
  },
  "cells": [
    {
      "cell_type": "markdown",
      "source": [
        "**Q1**"
      ],
      "metadata": {
        "id": "bTtCoRxDafl7"
      }
    },
    {
      "cell_type": "code",
      "execution_count": null,
      "metadata": {
        "id": "UhUEMCYtaW3B"
      },
      "outputs": [],
      "source": [
        "A = \"hello,world!\""
      ]
    },
    {
      "cell_type": "code",
      "source": [
        "print(A[0:5])"
      ],
      "metadata": {
        "colab": {
          "base_uri": "https://localhost:8080/"
        },
        "id": "nC3kej2HbF5e",
        "outputId": "61259ca3-8aa8-462e-b0ff-7e39d63957b4"
      },
      "execution_count": null,
      "outputs": [
        {
          "output_type": "stream",
          "name": "stdout",
          "text": [
            "hello\n"
          ]
        }
      ]
    },
    {
      "cell_type": "markdown",
      "source": [
        "**Q2**"
      ],
      "metadata": {
        "id": "Kk8XoNW7bT8q"
      }
    },
    {
      "cell_type": "code",
      "source": [
        "B = \"python is fun\""
      ],
      "metadata": {
        "id": "TsNwXFcQbOGx"
      },
      "execution_count": null,
      "outputs": []
    },
    {
      "cell_type": "code",
      "source": [
        "print(B[6:9])"
      ],
      "metadata": {
        "colab": {
          "base_uri": "https://localhost:8080/"
        },
        "id": "MgzjYwiAbee6",
        "outputId": "50b570ef-e36e-4b0d-9949-80f407ad5f3d"
      },
      "execution_count": null,
      "outputs": [
        {
          "output_type": "stream",
          "name": "stdout",
          "text": [
            " is\n"
          ]
        }
      ]
    },
    {
      "cell_type": "markdown",
      "source": [
        "**Q3**"
      ],
      "metadata": {
        "id": "C7e91H9tceAJ"
      }
    },
    {
      "cell_type": "code",
      "source": [
        "C= \"Programming\""
      ],
      "metadata": {
        "id": "V1QHM6xvbvQu"
      },
      "execution_count": null,
      "outputs": []
    },
    {
      "cell_type": "code",
      "source": [
        "print(C[3:8])"
      ],
      "metadata": {
        "colab": {
          "base_uri": "https://localhost:8080/"
        },
        "id": "dh4dHlH0b9qz",
        "outputId": "9d9f087b-1326-4508-c363-048eb5f646c1"
      },
      "execution_count": null,
      "outputs": [
        {
          "output_type": "stream",
          "name": "stdout",
          "text": [
            "gramm\n"
          ]
        }
      ]
    },
    {
      "cell_type": "markdown",
      "source": [
        "**Q4**"
      ],
      "metadata": {
        "id": "BOot6KqRcnfY"
      }
    },
    {
      "cell_type": "code",
      "source": [
        "D = \"abcdefgh\""
      ],
      "metadata": {
        "id": "iIJEw7kCcG8v"
      },
      "execution_count": null,
      "outputs": []
    },
    {
      "cell_type": "code",
      "source": [
        "print(D[0:9:2])"
      ],
      "metadata": {
        "colab": {
          "base_uri": "https://localhost:8080/"
        },
        "id": "ilTI9fGtedhE",
        "outputId": "89a2b6a4-5ea1-4e68-b2dc-79928e4e45c4"
      },
      "execution_count": null,
      "outputs": [
        {
          "output_type": "stream",
          "name": "stdout",
          "text": [
            "aceg\n"
          ]
        }
      ]
    },
    {
      "cell_type": "markdown",
      "source": [
        "**Q5**"
      ],
      "metadata": {
        "id": "0yw2RJYSfQcS"
      }
    },
    {
      "cell_type": "code",
      "source": [
        "E =\"abcdefg\""
      ],
      "metadata": {
        "id": "z6AnkLBjekix"
      },
      "execution_count": null,
      "outputs": []
    },
    {
      "cell_type": "code",
      "source": [
        "print(E[-3:])\n"
      ],
      "metadata": {
        "colab": {
          "base_uri": "https://localhost:8080/"
        },
        "id": "9Wbf5GAJeqgx",
        "outputId": "79955150-c057-4952-d7f4-488ec12039cf"
      },
      "execution_count": null,
      "outputs": [
        {
          "output_type": "stream",
          "name": "stdout",
          "text": [
            "efg\n"
          ]
        }
      ]
    },
    {
      "cell_type": "markdown",
      "source": [
        "**Q6**"
      ],
      "metadata": {
        "id": "jpJPdn6zfU0L"
      }
    },
    {
      "cell_type": "code",
      "source": [
        "F =\"Data Science\""
      ],
      "metadata": {
        "id": "9zwX93abezkB"
      },
      "execution_count": null,
      "outputs": []
    },
    {
      "cell_type": "code",
      "source": [
        "print(F[-3:])"
      ],
      "metadata": {
        "colab": {
          "base_uri": "https://localhost:8080/"
        },
        "id": "NsTifsb5ffx7",
        "outputId": "137335ae-6a70-409b-9a94-9bc0a9a1b1cb"
      },
      "execution_count": null,
      "outputs": [
        {
          "output_type": "stream",
          "name": "stdout",
          "text": [
            "nce\n"
          ]
        }
      ]
    },
    {
      "cell_type": "markdown",
      "source": [
        "**Q7**"
      ],
      "metadata": {
        "id": "e8Q6cRbaSJ5e"
      }
    },
    {
      "cell_type": "code",
      "source": [
        "b='abcdefgh'\n",
        "b[1:9:2]"
      ],
      "metadata": {
        "id": "XAwPjlRefqpU",
        "colab": {
          "base_uri": "https://localhost:8080/",
          "height": 36
        },
        "outputId": "1c893314-19d1-4fe0-ab96-3e5fe3c9816c"
      },
      "execution_count": 1,
      "outputs": [
        {
          "output_type": "execute_result",
          "data": {
            "text/plain": [
              "'bdfh'"
            ],
            "application/vnd.google.colaboratory.intrinsic+json": {
              "type": "string"
            }
          },
          "metadata": {},
          "execution_count": 1
        }
      ]
    },
    {
      "cell_type": "markdown",
      "source": [
        "**Q8**"
      ],
      "metadata": {
        "id": "IrQZlWqySZuD"
      }
    },
    {
      "cell_type": "code",
      "source": [
        "b='1234567890'\n",
        "b[::2]"
      ],
      "metadata": {
        "colab": {
          "base_uri": "https://localhost:8080/",
          "height": 36
        },
        "id": "irHBP6PsSWZh",
        "outputId": "2b958722-9a46-4924-f395-b6e4067c7292"
      },
      "execution_count": 2,
      "outputs": [
        {
          "output_type": "execute_result",
          "data": {
            "text/plain": [
              "'13579'"
            ],
            "application/vnd.google.colaboratory.intrinsic+json": {
              "type": "string"
            }
          },
          "metadata": {},
          "execution_count": 2
        }
      ]
    },
    {
      "cell_type": "markdown",
      "source": [
        "**Q9**"
      ],
      "metadata": {
        "id": "LqkofNUTSihz"
      }
    },
    {
      "cell_type": "code",
      "source": [
        "b='hello'\n",
        "b[::-1]"
      ],
      "metadata": {
        "colab": {
          "base_uri": "https://localhost:8080/",
          "height": 36
        },
        "id": "I14Of4TUShRT",
        "outputId": "ff535811-efcb-48fa-b801-91b9c89827e0"
      },
      "execution_count": 3,
      "outputs": [
        {
          "output_type": "execute_result",
          "data": {
            "text/plain": [
              "'olleh'"
            ],
            "application/vnd.google.colaboratory.intrinsic+json": {
              "type": "string"
            }
          },
          "metadata": {},
          "execution_count": 3
        }
      ]
    },
    {
      "cell_type": "markdown",
      "source": [
        "**Q10**"
      ],
      "metadata": {
        "id": "h1yDeY0vS0JI"
      }
    },
    {
      "cell_type": "code",
      "source": [
        "b='abcdefghijk'\n",
        "b[::2]"
      ],
      "metadata": {
        "colab": {
          "base_uri": "https://localhost:8080/",
          "height": 36
        },
        "id": "sQwPB_eYSvWt",
        "outputId": "a7f5f0d5-d069-4a52-9bcd-08d813ba545e"
      },
      "execution_count": 5,
      "outputs": [
        {
          "output_type": "execute_result",
          "data": {
            "text/plain": [
              "'acegik'"
            ],
            "application/vnd.google.colaboratory.intrinsic+json": {
              "type": "string"
            }
          },
          "metadata": {},
          "execution_count": 5
        }
      ]
    },
    {
      "cell_type": "markdown",
      "source": [
        "**Q11**"
      ],
      "metadata": {
        "id": "kCJhj6EVS8I5"
      }
    },
    {
      "cell_type": "code",
      "source": [
        "num=[1,2,3,4,5,6,7,8]\n",
        "sum(num)"
      ],
      "metadata": {
        "colab": {
          "base_uri": "https://localhost:8080/"
        },
        "id": "_lUOLJf2S7F8",
        "outputId": "689c396d-c6b6-44db-991f-d4eef2fc84f0"
      },
      "execution_count": 6,
      "outputs": [
        {
          "output_type": "execute_result",
          "data": {
            "text/plain": [
              "36"
            ]
          },
          "metadata": {},
          "execution_count": 6
        }
      ]
    },
    {
      "cell_type": "markdown",
      "source": [
        "**Q12**"
      ],
      "metadata": {
        "id": "VyUv36KfTEcn"
      }
    },
    {
      "cell_type": "code",
      "source": [
        "sent='data science'\n",
        "len(sent)\n",
        "sent[0:7]\n"
      ],
      "metadata": {
        "colab": {
          "base_uri": "https://localhost:8080/",
          "height": 36
        },
        "id": "DND7ihGaTC0B",
        "outputId": "94056ea0-c0ea-428a-88fe-38cf08d97b7e"
      },
      "execution_count": 7,
      "outputs": [
        {
          "output_type": "execute_result",
          "data": {
            "text/plain": [
              "'data sc'"
            ],
            "application/vnd.google.colaboratory.intrinsic+json": {
              "type": "string"
            }
          },
          "metadata": {},
          "execution_count": 7
        }
      ]
    },
    {
      "cell_type": "markdown",
      "source": [
        "**Q13**"
      ],
      "metadata": {
        "id": "iQRzYf9QTMei"
      }
    },
    {
      "cell_type": "code",
      "source": [
        "integers = (78, 45, 32, 19, 82, 77, 40, 39)\n",
        "new=list(integers)\n",
        "new[2]=120\n",
        "new_integers=tuple(new)\n",
        "print(new_integers)"
      ],
      "metadata": {
        "colab": {
          "base_uri": "https://localhost:8080/"
        },
        "id": "d-8m93G_TJ9x",
        "outputId": "3e570c08-e4cc-41ba-e91e-75b912cc7fb9"
      },
      "execution_count": 8,
      "outputs": [
        {
          "output_type": "stream",
          "name": "stdout",
          "text": [
            "(78, 45, 120, 19, 82, 77, 40, 39)\n"
          ]
        }
      ]
    },
    {
      "cell_type": "markdown",
      "source": [
        "**Q14**"
      ],
      "metadata": {
        "id": "aU5VGGaATY-o"
      }
    },
    {
      "cell_type": "code",
      "source": [
        "listA = [19, 32, 10, 55, 31, 32, 94, 29, 10, 65, 77, 40, 40]\n",
        "listA.remove(32)\n",
        "print(listA)\n",
        "while 40 in listA:\n",
        " listA.remove(40)\n",
        "print(listA)\n",
        "del listA[5]\n",
        "print(listA)\n",
        "listA.insert(2, 200)\n",
        "print(listA)\n",
        "print(\"Final list:\", listA)\n",
        "print(\"Length of the list:\", len(listA))\n",
        "print(\"Maximum value in the list:\", max(listA))\n",
        "print(\"Sum of all elements in the list:\", sum(listA))\n"
      ],
      "metadata": {
        "colab": {
          "base_uri": "https://localhost:8080/"
        },
        "id": "ui5I5ZthTTff",
        "outputId": "8b747046-3705-40ab-86aa-24a63515d0a5"
      },
      "execution_count": 9,
      "outputs": [
        {
          "output_type": "stream",
          "name": "stdout",
          "text": [
            "[19, 10, 55, 31, 32, 94, 29, 10, 65, 77, 40, 40]\n",
            "[19, 10, 55, 31, 32, 94, 29, 10, 65, 77]\n",
            "[19, 10, 55, 31, 32, 29, 10, 65, 77]\n",
            "[19, 10, 200, 55, 31, 32, 29, 10, 65, 77]\n",
            "Final list: [19, 10, 200, 55, 31, 32, 29, 10, 65, 77]\n",
            "Length of the list: 10\n",
            "Maximum value in the list: 200\n",
            "Sum of all elements in the list: 528\n"
          ]
        }
      ]
    },
    {
      "cell_type": "markdown",
      "source": [
        "**Q15**"
      ],
      "metadata": {
        "id": "gosjaMshThRM"
      }
    },
    {
      "cell_type": "code",
      "source": [
        "string = \"The day has been long\"\n",
        "new_string=list(string)\n",
        "del new_string[4]\n",
        "final_string=''.join(new_string)\n",
        "print(final_string)\n",
        "print((string + \" \") * 4)\n",
        "print((string + \"\\n\") * 3)\n",
        "new_string = string[:7] + 'A' + string[8:]\n",
        "print(new_string)\n",
        "\n",
        "\n",
        "print(string[4:16])\n",
        "\n",
        "\n",
        "final_string = new_string\n",
        "print(final_string, len(final_string))\n"
      ],
      "metadata": {
        "colab": {
          "base_uri": "https://localhost:8080/"
        },
        "id": "TNEHd1qXTfTP",
        "outputId": "0c7fb610-484c-447e-a24f-ab4a316f2164"
      },
      "execution_count": 10,
      "outputs": [
        {
          "output_type": "stream",
          "name": "stdout",
          "text": [
            "The ay has been long\n",
            "The day has been long The day has been long The day has been long The day has been long \n",
            "The day has been long\n",
            "The day has been long\n",
            "The day has been long\n",
            "\n",
            "The dayAhas been long\n",
            "day has been\n",
            "The dayAhas been long 21\n"
          ]
        }
      ]
    },
    {
      "cell_type": "code",
      "source": [],
      "metadata": {
        "id": "uQI-ojV2ToRO"
      },
      "execution_count": null,
      "outputs": []
    }
  ]
}
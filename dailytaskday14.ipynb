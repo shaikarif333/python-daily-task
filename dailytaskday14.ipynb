{
  "nbformat": 4,
  "nbformat_minor": 0,
  "metadata": {
    "colab": {
      "provenance": []
    },
    "kernelspec": {
      "name": "python3",
      "display_name": "Python 3"
    },
    "language_info": {
      "name": "python"
    }
  },
  "cells": [
    {
      "cell_type": "markdown",
      "source": [
        "Activity 1"
      ],
      "metadata": {
        "id": "CTp34SLqz3Sl"
      }
    },
    {
      "cell_type": "code",
      "execution_count": null,
      "metadata": {
        "colab": {
          "base_uri": "https://localhost:8080/"
        },
        "id": "X12kDpyhx6UV",
        "outputId": "119cae54-186c-44fb-beb3-62389a5b503b"
      },
      "outputs": [
        {
          "output_type": "stream",
          "name": "stdout",
          "text": [
            "Enter a number 3\n",
            "Enter a number 6\n",
            "Enter a number 1\n",
            "Maximum number is: 6\n"
          ]
        }
      ],
      "source": [
        "def maximum(num1, num2, num3):\n",
        "    result = max(num1, num2, num3)\n",
        "    return result\n",
        "n1=int(input('Enter a number '))\n",
        "n2=int(input('Enter a number '))\n",
        "n3=int(input('Enter a number '))\n",
        "m = maximum(n1, n2, n3)\n",
        "print(\"Maximum number is:\", m)"
      ]
    },
    {
      "cell_type": "markdown",
      "source": [
        "Activity 2"
      ],
      "metadata": {
        "id": "GvKciSPk1U7w"
      }
    },
    {
      "cell_type": "code",
      "source": [
        "def circle_area (radius):\n",
        "    pi = 3.14159\n",
        "    area = pi * radius ** 2\n",
        "    return area\n",
        "n1=int(input('Enter a number '))\n",
        "a = circle_area(n1)\n",
        "print(\"Area is:\", a)"
      ],
      "metadata": {
        "colab": {
          "base_uri": "https://localhost:8080/"
        },
        "id": "-Az_snvs0XGB",
        "outputId": "9b40ffd8-de2c-418f-83fc-415981cf3df4"
      },
      "execution_count": null,
      "outputs": [
        {
          "output_type": "stream",
          "name": "stdout",
          "text": [
            "Enter a number 4\n",
            "Area is: 50.26544\n"
          ]
        }
      ]
    },
    {
      "cell_type": "markdown",
      "source": [
        "Activity 3"
      ],
      "metadata": {
        "id": "a4CLSKIx1_7O"
      }
    },
    {
      "cell_type": "code",
      "source": [
        "prime=int(input('Enter a number '))\n",
        "def prm(p):\n",
        " for i in range(2,p):\n",
        "   if(p%i==0):\n",
        "    return False\n",
        "    break\n",
        " else:\n",
        "  return True\n",
        "prm(prime)"
      ],
      "metadata": {
        "colab": {
          "base_uri": "https://localhost:8080/"
        },
        "id": "He2fDIwe2BuM",
        "outputId": "02808b4b-8b41-4e9e-911c-f695f7cb31fb"
      },
      "execution_count": null,
      "outputs": [
        {
          "name": "stdout",
          "output_type": "stream",
          "text": [
            "Enter a number 6\n"
          ]
        },
        {
          "output_type": "execute_result",
          "data": {
            "text/plain": [
              "False"
            ]
          },
          "metadata": {},
          "execution_count": 8
        }
      ]
    },
    {
      "cell_type": "markdown",
      "source": [
        "Activity 4"
      ],
      "metadata": {
        "id": "RH0kZuyL4V0A"
      }
    },
    {
      "cell_type": "code",
      "source": [
        "strng=input('Enter a word ')\n",
        "s=len(strng)\n",
        "def pal(n):\n",
        "  if(n[s::-1]==n):\n",
        "    return True\n",
        "  else:\n",
        "    return False\n",
        "pal(strng)"
      ],
      "metadata": {
        "colab": {
          "base_uri": "https://localhost:8080/"
        },
        "id": "Fc7yprdh4Yoz",
        "outputId": "01220964-139c-4ad7-cd36-0a146aa94051"
      },
      "execution_count": null,
      "outputs": [
        {
          "name": "stdout",
          "output_type": "stream",
          "text": [
            "Enter a word amma\n"
          ]
        },
        {
          "output_type": "execute_result",
          "data": {
            "text/plain": [
              "True"
            ]
          },
          "metadata": {},
          "execution_count": 9
        }
      ]
    },
    {
      "cell_type": "markdown",
      "source": [
        "Activity 5"
      ],
      "metadata": {
        "id": "q-vr33WP5Axe"
      }
    },
    {
      "cell_type": "code",
      "source": [
        "s=int(input('What is the size of list '))\n",
        "def add(s):\n",
        " d=[]\n",
        " su=0\n",
        " for i in range(s):\n",
        "  num=int(input('Number= '))\n",
        "  d.append(num)\n",
        "  su=su+num\n",
        " print(d)\n",
        " return print(\"sum= \",su)\n",
        "add(s)"
      ],
      "metadata": {
        "colab": {
          "base_uri": "https://localhost:8080/"
        },
        "id": "KIwqNDbI5Dp_",
        "outputId": "b9e5cf2d-b210-43cb-ca4a-ac2aec15a38e"
      },
      "execution_count": null,
      "outputs": [
        {
          "output_type": "stream",
          "name": "stdout",
          "text": [
            "What is the size of list 4\n",
            "Number= 1\n",
            "Number= 9\n",
            "Number= 7\n",
            "Number= 3\n",
            "[1, 9, 7, 3]\n",
            "sum=  20\n"
          ]
        }
      ]
    },
    {
      "cell_type": "markdown",
      "source": [
        "Activity 6"
      ],
      "metadata": {
        "id": "lx7OrZgE-2YY"
      }
    },
    {
      "cell_type": "code",
      "source": [
        "s=int(input('What is the size of list '))\n",
        "def avrg(s):\n",
        " d=[]\n",
        " su=0\n",
        " for i in range(s):\n",
        "  num=int(input('Number= '))\n",
        "  d.append(num)\n",
        "  su=su+num\n",
        " avg= su/s\n",
        " print(d)\n",
        " return print(\"avg= \",avg)\n",
        "avrg(s)"
      ],
      "metadata": {
        "colab": {
          "base_uri": "https://localhost:8080/"
        },
        "id": "c9s6DoP77cxC",
        "outputId": "e8823832-c229-4cf2-bee6-08bd2c685a99"
      },
      "execution_count": null,
      "outputs": [
        {
          "output_type": "stream",
          "name": "stdout",
          "text": [
            "What is the size of list 4\n",
            "Number= 1\n",
            "Number= 9\n",
            "Number= 7\n",
            "Number= 3\n",
            "[1, 9, 7, 3]\n",
            "avg=  5.0\n"
          ]
        }
      ]
    },
    {
      "cell_type": "markdown",
      "source": [
        "Activity 7"
      ],
      "metadata": {
        "id": "O9sdabW1Axbz"
      }
    },
    {
      "cell_type": "code",
      "source": [
        "def largest(num, k):\n",
        "    num.sort(reverse=True)\n",
        "    return num[k - 1]\n",
        "s=int(input('What is the size of list '))\n",
        "d=[]\n",
        "su=0\n",
        "for i in range(s):\n",
        "  num=int(input('Number= '))\n",
        "  d.append(num)\n",
        "largest(d,s)"
      ],
      "metadata": {
        "colab": {
          "base_uri": "https://localhost:8080/"
        },
        "id": "kaCXXE8kA4Nt",
        "outputId": "cc35b769-86b6-4bef-a602-a7a0f131cf7e"
      },
      "execution_count": null,
      "outputs": [
        {
          "name": "stdout",
          "output_type": "stream",
          "text": [
            "What is the size of list 4\n",
            "Number= 2\n",
            "Number= 4\n",
            "Number= 6\n",
            "Number= 8\n"
          ]
        },
        {
          "output_type": "execute_result",
          "data": {
            "text/plain": [
              "2"
            ]
          },
          "metadata": {},
          "execution_count": 23
        }
      ]
    },
    {
      "cell_type": "markdown",
      "source": [
        "Activity 8"
      ],
      "metadata": {
        "id": "I2RVa2OQT3tb"
      }
    },
    {
      "cell_type": "code",
      "source": [
        "def digits(n):\n",
        "    if n < 10:\n",
        "        return n\n",
        "    else:\n",
        "        return (n % 10) + digits(n // 10)\n",
        "num=int(input('Number= '))\n",
        "print(\"Sum= \", digits(num))"
      ],
      "metadata": {
        "id": "IvHuiV0pDCuQ",
        "colab": {
          "base_uri": "https://localhost:8080/"
        },
        "outputId": "3f0fb51f-f15b-4b9f-e192-5f7d179169fd"
      },
      "execution_count": null,
      "outputs": [
        {
          "output_type": "stream",
          "name": "stdout",
          "text": [
            "Number= 453\n",
            "Sum=  12\n"
          ]
        }
      ]
    },
    {
      "cell_type": "markdown",
      "source": [
        "Activity 9"
      ],
      "metadata": {
        "id": "sChkR4ILWDVR"
      }
    },
    {
      "cell_type": "code",
      "source": [
        "def power(base, exponent):\n",
        "    if exponent == 0:\n",
        "        return 1\n",
        "    elif exponent == 1:\n",
        "        return base\n",
        "    else:\n",
        "        return base * power(base, exponent - 1)\n",
        "num1=int(input('Base= '))\n",
        "num2=int(input('exponent= '))\n",
        "print(f\"{num1}^{num2} =\", power(num1, num2))"
      ],
      "metadata": {
        "colab": {
          "base_uri": "https://localhost:8080/"
        },
        "id": "thSeRYQRVW5Y",
        "outputId": "74864ace-543e-44c4-d1a4-8e3c7c9a4d4e"
      },
      "execution_count": null,
      "outputs": [
        {
          "output_type": "stream",
          "name": "stdout",
          "text": [
            "Base= 2\n",
            "exponent= 3\n",
            "2^3 = 8\n"
          ]
        }
      ]
    },
    {
      "cell_type": "markdown",
      "source": [
        "Activity 10"
      ],
      "metadata": {
        "id": "o6E3JaGtXV9m"
      }
    },
    {
      "cell_type": "code",
      "source": [
        "def gcd(a, b):\n",
        "    if b == 0:\n",
        "        return a\n",
        "    else:\n",
        "        return gcd(b, a % b)\n",
        "num1=int(input('num1= '))\n",
        "num2=int(input('num2= '))\n",
        "print(f\"GCD of {num1} and {num2} is\", gcd(num1, num2))"
      ],
      "metadata": {
        "colab": {
          "base_uri": "https://localhost:8080/"
        },
        "id": "O914EHEmW7e1",
        "outputId": "7b986339-08f1-4f97-9540-b305410ce3f1"
      },
      "execution_count": null,
      "outputs": [
        {
          "output_type": "stream",
          "name": "stdout",
          "text": [
            "num1= 3\n",
            "num2= 6\n",
            "GCD of 3 and 6 is 3\n"
          ]
        }
      ]
    },
    {
      "cell_type": "markdown",
      "source": [
        "Activity 11"
      ],
      "metadata": {
        "id": "HFp9fQ8fYZM1"
      }
    },
    {
      "cell_type": "code",
      "source": [
        "import numpy as np\n",
        "a=np.arange(10)\n",
        "a"
      ],
      "metadata": {
        "colab": {
          "base_uri": "https://localhost:8080/"
        },
        "id": "3tZhM4CjX_9W",
        "outputId": "dd6d1c73-4dc8-43cb-a73d-bc2aeb1c6b56"
      },
      "execution_count": null,
      "outputs": [
        {
          "output_type": "execute_result",
          "data": {
            "text/plain": [
              "array([0, 1, 2, 3, 4, 5, 6, 7, 8, 9])"
            ]
          },
          "metadata": {},
          "execution_count": 7
        }
      ]
    },
    {
      "cell_type": "markdown",
      "source": [
        "Activity 12"
      ],
      "metadata": {
        "id": "xOw-s32OYplE"
      }
    },
    {
      "cell_type": "code",
      "source": [
        "a1= np.arange(1, 10).reshape(3, 3)\n",
        "a1"
      ],
      "metadata": {
        "colab": {
          "base_uri": "https://localhost:8080/"
        },
        "id": "DEvSBi2tYfQX",
        "outputId": "30ae4fd9-f2bc-4103-88ef-092f0a48cd93"
      },
      "execution_count": null,
      "outputs": [
        {
          "output_type": "execute_result",
          "data": {
            "text/plain": [
              "array([[1, 2, 3],\n",
              "       [4, 5, 6],\n",
              "       [7, 8, 9]])"
            ]
          },
          "metadata": {},
          "execution_count": 9
        }
      ]
    },
    {
      "cell_type": "markdown",
      "source": [
        "Activity 13"
      ],
      "metadata": {
        "id": "iAV1ri-7ZYWT"
      }
    },
    {
      "cell_type": "code",
      "source": [
        "a2=np.eye(3)\n",
        "a2"
      ],
      "metadata": {
        "colab": {
          "base_uri": "https://localhost:8080/"
        },
        "id": "cW5jTIRqYxUC",
        "outputId": "7df5ae0d-3610-4b0c-98fe-9b7139006e23"
      },
      "execution_count": null,
      "outputs": [
        {
          "output_type": "execute_result",
          "data": {
            "text/plain": [
              "array([[1., 0., 0.],\n",
              "       [0., 1., 0.],\n",
              "       [0., 0., 1.]])"
            ]
          },
          "metadata": {},
          "execution_count": 10
        }
      ]
    },
    {
      "cell_type": "markdown",
      "source": [
        "Activity 14"
      ],
      "metadata": {
        "id": "xce00iyMZhNN"
      }
    },
    {
      "cell_type": "code",
      "source": [
        "a3=np.random.randint(1,100,10)\n",
        "print(a3)\n",
        "print(\"mean :\",a3.mean())\n",
        "print(\"standard deviation :\", a3.std())"
      ],
      "metadata": {
        "colab": {
          "base_uri": "https://localhost:8080/"
        },
        "id": "Uln6r_xbZgBn",
        "outputId": "d0817bb1-70d4-4449-a11c-543b08ee52b7"
      },
      "execution_count": null,
      "outputs": [
        {
          "output_type": "stream",
          "name": "stdout",
          "text": [
            "[30 32 30 97  1 12 76  3 51 45]\n",
            "mean : 37.7\n",
            "standard deviation : 29.284979084848256\n"
          ]
        }
      ]
    },
    {
      "cell_type": "markdown",
      "source": [
        "Activity 15"
      ],
      "metadata": {
        "id": "xnZeYXiBbF8g"
      }
    },
    {
      "cell_type": "code",
      "source": [
        "a4=np.arange(10,21)\n",
        "a4"
      ],
      "metadata": {
        "colab": {
          "base_uri": "https://localhost:8080/"
        },
        "id": "EnYRYk_9aNsx",
        "outputId": "19caf93b-6d1f-49ec-c9bb-f3c920358828"
      },
      "execution_count": null,
      "outputs": [
        {
          "output_type": "execute_result",
          "data": {
            "text/plain": [
              "array([10, 11, 12, 13, 14, 15, 16, 17, 18, 19, 20])"
            ]
          },
          "metadata": {},
          "execution_count": 17
        }
      ]
    },
    {
      "cell_type": "code",
      "source": [
        "a4[:5]"
      ],
      "metadata": {
        "colab": {
          "base_uri": "https://localhost:8080/"
        },
        "id": "lGzaQqZ3amyi",
        "outputId": "77fcb019-ea05-4fd2-d21e-7c76db0c9154"
      },
      "execution_count": null,
      "outputs": [
        {
          "output_type": "execute_result",
          "data": {
            "text/plain": [
              "array([10, 11, 12, 13, 14])"
            ]
          },
          "metadata": {},
          "execution_count": 18
        }
      ]
    },
    {
      "cell_type": "markdown",
      "source": [
        "Activity 16"
      ],
      "metadata": {
        "id": "vXs7u3SRblNE"
      }
    },
    {
      "cell_type": "code",
      "source": [
        "a5=np.arange(16).reshape(4,4)\n",
        "a5"
      ],
      "metadata": {
        "colab": {
          "base_uri": "https://localhost:8080/"
        },
        "id": "kGKgdSp5bjl0",
        "outputId": "5cbd0797-cfcf-4ac5-e39d-7477d5acca7d"
      },
      "execution_count": null,
      "outputs": [
        {
          "output_type": "execute_result",
          "data": {
            "text/plain": [
              "array([[ 0,  1,  2,  3],\n",
              "       [ 4,  5,  6,  7],\n",
              "       [ 8,  9, 10, 11],\n",
              "       [12, 13, 14, 15]])"
            ]
          },
          "metadata": {},
          "execution_count": 22
        }
      ]
    },
    {
      "cell_type": "code",
      "source": [
        "a5[1]"
      ],
      "metadata": {
        "colab": {
          "base_uri": "https://localhost:8080/"
        },
        "id": "2d44qroJcE7D",
        "outputId": "97c483c9-fa73-48eb-97af-057d07ddbf27"
      },
      "execution_count": null,
      "outputs": [
        {
          "output_type": "execute_result",
          "data": {
            "text/plain": [
              "array([4, 5, 6, 7])"
            ]
          },
          "metadata": {},
          "execution_count": 23
        }
      ]
    },
    {
      "cell_type": "markdown",
      "source": [
        "Activity 17"
      ],
      "metadata": {
        "id": "dofsk0XCcf46"
      }
    },
    {
      "cell_type": "code",
      "source": [
        "arr1=np.arange(1,6)\n",
        "arr1"
      ],
      "metadata": {
        "colab": {
          "base_uri": "https://localhost:8080/"
        },
        "id": "YYbZQgoCceTN",
        "outputId": "541fc7cc-4fe5-4b52-8504-9e3ebdfc1ea9"
      },
      "execution_count": null,
      "outputs": [
        {
          "output_type": "execute_result",
          "data": {
            "text/plain": [
              "array([1, 2, 3, 4, 5])"
            ]
          },
          "metadata": {},
          "execution_count": 24
        }
      ]
    },
    {
      "cell_type": "code",
      "source": [
        "arr2=np.arange(6,11)\n",
        "arr2"
      ],
      "metadata": {
        "colab": {
          "base_uri": "https://localhost:8080/"
        },
        "id": "VEn-SzaDcxxX",
        "outputId": "a4de66de-df20-4e87-ffc7-a8ba5ef0d4e7"
      },
      "execution_count": null,
      "outputs": [
        {
          "output_type": "execute_result",
          "data": {
            "text/plain": [
              "array([ 6,  7,  8,  9, 10])"
            ]
          },
          "metadata": {},
          "execution_count": 25
        }
      ]
    },
    {
      "cell_type": "code",
      "source": [
        "arr=arr1+arr2\n",
        "arr"
      ],
      "metadata": {
        "colab": {
          "base_uri": "https://localhost:8080/"
        },
        "id": "8HvSG31wc8SK",
        "outputId": "eb01c7f1-90f6-4825-a71c-1ebf86f34861"
      },
      "execution_count": null,
      "outputs": [
        {
          "output_type": "execute_result",
          "data": {
            "text/plain": [
              "array([ 7,  9, 11, 13, 15])"
            ]
          },
          "metadata": {},
          "execution_count": 26
        }
      ]
    },
    {
      "cell_type": "markdown",
      "source": [
        "Activity 18"
      ],
      "metadata": {
        "id": "XNI6CzdOdBv0"
      }
    },
    {
      "cell_type": "code",
      "source": [
        "ar=np.random.rand(10)\n",
        "ar"
      ],
      "metadata": {
        "colab": {
          "base_uri": "https://localhost:8080/"
        },
        "id": "UKodd8Qsc_M1",
        "outputId": "c2118495-d23b-4a56-f0df-8969d1a8ecec"
      },
      "execution_count": null,
      "outputs": [
        {
          "output_type": "execute_result",
          "data": {
            "text/plain": [
              "array([0.60783081, 0.50557941, 0.76028171, 0.59305387, 0.42545892,\n",
              "       0.12996171, 0.21712307, 0.77523423, 0.48788976, 0.52439427])"
            ]
          },
          "metadata": {},
          "execution_count": 33
        }
      ]
    },
    {
      "cell_type": "code",
      "source": [
        "ar[ar<0.5]=0\n",
        "ar"
      ],
      "metadata": {
        "colab": {
          "base_uri": "https://localhost:8080/"
        },
        "id": "EqTOYULgdYfP",
        "outputId": "846c2580-7738-4f12-8e30-7e8fe90aa7c6"
      },
      "execution_count": null,
      "outputs": [
        {
          "output_type": "execute_result",
          "data": {
            "text/plain": [
              "array([0.60783081, 0.50557941, 0.76028171, 0.59305387, 0.        ,\n",
              "       0.        , 0.        , 0.77523423, 0.        , 0.52439427])"
            ]
          },
          "metadata": {},
          "execution_count": 34
        }
      ]
    },
    {
      "cell_type": "code",
      "source": [],
      "metadata": {
        "id": "_bAcbRxxddQi"
      },
      "execution_count": null,
      "outputs": []
    }
  ]
}
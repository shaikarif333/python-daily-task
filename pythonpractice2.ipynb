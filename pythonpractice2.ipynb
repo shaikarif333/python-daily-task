{
  "nbformat": 4,
  "nbformat_minor": 0,
  "metadata": {
    "colab": {
      "provenance": [],
      "include_colab_link": true
    },
    "kernelspec": {
      "name": "python3",
      "display_name": "Python 3"
    },
    "language_info": {
      "name": "python"
    }
  },
  "cells": [
    {
      "cell_type": "markdown",
      "metadata": {
        "id": "view-in-github",
        "colab_type": "text"
      },
      "source": [
        "<a href=\"https://colab.research.google.com/github/shaikarif333/python-daily-task/blob/main/pythonpractice2.ipynb\" target=\"_parent\"><img src=\"https://colab.research.google.com/assets/colab-badge.svg\" alt=\"Open In Colab\"/></a>"
      ]
    },
    {
      "cell_type": "markdown",
      "source": [
        "Activity 1"
      ],
      "metadata": {
        "id": "hSwGEk4aVtOd"
      }
    },
    {
      "cell_type": "code",
      "execution_count": null,
      "metadata": {
        "colab": {
          "base_uri": "https://localhost:8080/"
        },
        "id": "Z49bBEVlVkDk",
        "outputId": "81fc6ea1-9e0a-4f91-d077-4e530e15d9cb"
      },
      "outputs": [
        {
          "output_type": "stream",
          "name": "stdout",
          "text": [
            "Enter a string value: what is the value of x?\n",
            "Occurrence of all characters in: what is the value of x? \n",
            " w=1, h=2, a=2, t=2,  =5, i=1, s=1, e=2, v=1, l=1, u=1, o=1, f=1, x=1, ?=1\n"
          ]
        }
      ],
      "source": [
        "def chara(s):\n",
        "    result = \"\"\n",
        "    seen_chars = set()\n",
        "    for char in s:\n",
        "        if char not in seen_chars:\n",
        "            count = s.count(char)\n",
        "            result += f\"{char}={count}, \"\n",
        "            seen_chars.add(char)\n",
        "    result = result.rstrip(\", \")\n",
        "    return result\n",
        "instr= input(\"Enter a string value: \")\n",
        "freq=chara(instr)\n",
        "print (f\"Occurrence of all characters in: {instr} \\n \"+ str(freq))"
      ]
    },
    {
      "cell_type": "markdown",
      "source": [
        "Activity 2"
      ],
      "metadata": {
        "id": "sgukXVpvVlzV"
      }
    },
    {
      "cell_type": "code",
      "source": [
        "def maximum(num1, num2, num3):\n",
        "    result = max(num1, num2, num3)\n",
        "    return result\n",
        "n1=int(input('Enter a number '))\n",
        "n2=int(input('Enter a number '))\n",
        "n3=int(input('Enter a number '))\n",
        "m = maximum(n1, n2, n3)\n",
        "print(\"Maximum number is:\", m)"
      ],
      "metadata": {
        "colab": {
          "base_uri": "https://localhost:8080/"
        },
        "id": "2hCXw1jyVoYw",
        "outputId": "4b666c89-eb1c-4bbb-8dfc-c90bdff4bee1"
      },
      "execution_count": null,
      "outputs": [
        {
          "output_type": "stream",
          "name": "stdout",
          "text": [
            "Enter a number 4\n",
            "Enter a number 7\n",
            "Enter a number 9\n",
            "Maximum number is: 9\n"
          ]
        }
      ]
    },
    {
      "cell_type": "markdown",
      "source": [
        "Activity 3"
      ],
      "metadata": {
        "id": "87o_7fN9gPZH"
      }
    },
    {
      "cell_type": "code",
      "source": [
        "def exponent(base, exp):\n",
        "    result = 1\n",
        "    for i in range(exp):\n",
        "        result *= base\n",
        "    return result\n",
        "base = int(input(\"Enter the base: \"))\n",
        "exp = int(input(\"Enter the exponent: \"))\n",
        "print(\"Result:\", exponent(base, exp))\n"
      ],
      "metadata": {
        "id": "oYRFfEpGVp1D",
        "colab": {
          "base_uri": "https://localhost:8080/"
        },
        "outputId": "4e4fe801-cf77-4cc1-b3c4-73d577bd4957"
      },
      "execution_count": null,
      "outputs": [
        {
          "output_type": "stream",
          "name": "stdout",
          "text": [
            "Enter the base: 5\n",
            "Enter the exponent: 2\n",
            "Result: 25\n"
          ]
        }
      ]
    },
    {
      "cell_type": "markdown",
      "source": [
        "Activity 4"
      ],
      "metadata": {
        "id": "yf2WAzn-iUyK"
      }
    },
    {
      "cell_type": "code",
      "source": [
        "def cube(n):\n",
        "    sum = 0\n",
        "    for i in range(1, n):\n",
        "        sum+= i ** 3\n",
        "    return sum\n",
        "n = int(input(\"Enter a positive integer: \"))\n",
        "result = cube(n)\n",
        "print(f\"Sum of cubes of positive integers smaller than {n} is: {result}\")\n"
      ],
      "metadata": {
        "colab": {
          "base_uri": "https://localhost:8080/"
        },
        "id": "ymDcFyWgiWZi",
        "outputId": "8c954e5e-5bcc-4fae-d703-aeb1ff7124a7"
      },
      "execution_count": null,
      "outputs": [
        {
          "output_type": "stream",
          "name": "stdout",
          "text": [
            "Enter a positive integer: 6\n",
            "Sum of cubes of positive integers smaller than 6 is: 225\n"
          ]
        }
      ]
    },
    {
      "cell_type": "markdown",
      "source": [
        "Activity 5"
      ],
      "metadata": {
        "id": "OO-KnUmUjmPE"
      }
    },
    {
      "cell_type": "code",
      "source": [
        "for i in range(1,11):\n",
        "  if(i%2==0 and i%5==0):\n",
        "    print('FizzBuzz',end=\" \")\n",
        "  elif(i%2==0):\n",
        "    print(\"Fizz\",end=\" \")\n",
        "  elif(i%5==0):\n",
        "    print(\"Buzz\",end=\" \")\n",
        "  else:\n",
        "    print(i,end=\" \")"
      ],
      "metadata": {
        "colab": {
          "base_uri": "https://localhost:8080/"
        },
        "id": "Pqjrt68Aja5P",
        "outputId": "5b928c3c-5f78-49a4-e20f-d246a5440b01"
      },
      "execution_count": null,
      "outputs": [
        {
          "output_type": "stream",
          "name": "stdout",
          "text": [
            "1 Fizz 3 Fizz Buzz Fizz 7 Fizz 9 FizzBuzz "
          ]
        }
      ]
    },
    {
      "cell_type": "markdown",
      "source": [
        "Activity 6"
      ],
      "metadata": {
        "id": "lxDht_5Nj-lu"
      }
    },
    {
      "cell_type": "code",
      "source": [
        "def item(list1):\n",
        "    list1.sort()\n",
        "    max = 0\n",
        "    most= None\n",
        "\n",
        "    count = 1\n",
        "    item = list1[0]\n",
        "    for i in range(1, len(list1)):\n",
        "        if list1[i] == item:\n",
        "            count += 1\n",
        "        else:\n",
        "            if count > max:\n",
        "                max= count\n",
        "                most = item\n",
        "\n",
        "            item = list1[i]\n",
        "            count = 1\n",
        "    if count > max:\n",
        "        most= item\n",
        "    return most\n",
        "s=int(input('What is the size of list '))\n",
        "d=[]\n",
        "su=0\n",
        "for i in range(s):\n",
        "  num=int(input('Number= '))\n",
        "  d.append(num)\n",
        "print(d)\n",
        "result = item(d)\n",
        "print(\"Most frequent item in the list is:\", result)\n"
      ],
      "metadata": {
        "colab": {
          "base_uri": "https://localhost:8080/"
        },
        "id": "X7XhlVJfjz-a",
        "outputId": "5fb8cbe2-c683-4e9c-fd51-9ab73ca83571"
      },
      "execution_count": null,
      "outputs": [
        {
          "output_type": "stream",
          "name": "stdout",
          "text": [
            "What is the size of list 4\n",
            "Number= 4\n",
            "Number= 6\n",
            "Number= 6\n",
            "Number= 3\n",
            "[4, 6, 6, 3]\n",
            "Most frequent item in the list is: 6\n"
          ]
        }
      ]
    },
    {
      "cell_type": "markdown",
      "source": [
        "Activity 7"
      ],
      "metadata": {
        "id": "9d9jPmSkqM77"
      }
    },
    {
      "cell_type": "code",
      "source": [
        "def squares(numbers):\n",
        "    sum = 0\n",
        "    for num in numbers:\n",
        "        sum += num ** 2\n",
        "    return sum\n",
        "s=int(input('What is the size of list '))\n",
        "d=[]\n",
        "su=0\n",
        "for i in range(s):\n",
        "  num=int(input('Number= '))\n",
        "  d.append(num)\n",
        "print(d)\n",
        "result = squares(d)\n",
        "print(\"Sum of squares of the numbers in the list is:\", result)\n"
      ],
      "metadata": {
        "colab": {
          "base_uri": "https://localhost:8080/"
        },
        "id": "f2Kn3FE7o_9c",
        "outputId": "f2ae0879-4feb-4516-f6da-fc5c7c3202b9"
      },
      "execution_count": null,
      "outputs": [
        {
          "output_type": "stream",
          "name": "stdout",
          "text": [
            "What is the size of list 4\n",
            "Number= 2\n",
            "Number= 3\n",
            "Number= 4\n",
            "Number= 5\n",
            "[2, 3, 4, 5]\n",
            "Sum of squares of the numbers in the list is: 54\n"
          ]
        }
      ]
    },
    {
      "cell_type": "markdown",
      "source": [
        "Activity 8"
      ],
      "metadata": {
        "id": "5F4yhcsGr50X"
      }
    },
    {
      "cell_type": "code",
      "source": [
        "for i in range(1, 16):\n",
        "    if i % 2 == 0:\n",
        "        print(i, \"- even\")\n",
        "    else:\n",
        "        print(i, \"- odd\")\n"
      ],
      "metadata": {
        "colab": {
          "base_uri": "https://localhost:8080/"
        },
        "id": "t-yCkysfr9kj",
        "outputId": "4dd71517-23fe-42e8-dca8-4f6636a46fb5"
      },
      "execution_count": null,
      "outputs": [
        {
          "output_type": "stream",
          "name": "stdout",
          "text": [
            "1 - odd\n",
            "2 - even\n",
            "3 - odd\n",
            "4 - even\n",
            "5 - odd\n",
            "6 - even\n",
            "7 - odd\n",
            "8 - even\n",
            "9 - odd\n",
            "10 - even\n",
            "11 - odd\n",
            "12 - even\n",
            "13 - odd\n",
            "14 - even\n",
            "15 - odd\n"
          ]
        }
      ]
    },
    {
      "cell_type": "markdown",
      "source": [
        "Activity 9"
      ],
      "metadata": {
        "id": "Qkd61oVsslkE"
      }
    },
    {
      "cell_type": "code",
      "source": [
        "def fahrenheit(celsius):\n",
        "    fahrenheit = (celsius * 9/5) + 32\n",
        "    return fahrenheit\n",
        "def celsius(fahrenheit):\n",
        "    celsius = (fahrenheit - 32) * 5/9\n",
        "    return celsius\n",
        "choice = input(\"Enter 'F' for Fahrenheit, or 'C' for Celsius: \")\n",
        "if choice == 'F':\n",
        "    celsius = float(input(\"Enter temperature in Celsius: \"))\n",
        "    fahrenheit = fahrenheit(celsius)\n",
        "    print(f\"{celsius} Celsius is equal to {fahrenheit} Fahrenheit\")\n",
        "elif choice == 'C':\n",
        "    fahrenheit = float(input(\"Enter temperature in Fahrenheit: \"))\n",
        "    celsius = celsius(fahrenheit)\n",
        "    print(f\"{fahrenheit} Fahrenheit is equal to {celsius} Celsius\")\n",
        "else:\n",
        "    print(\"Invalid choice\")\n"
      ],
      "metadata": {
        "colab": {
          "base_uri": "https://localhost:8080/"
        },
        "id": "eMJbT2fksn4a",
        "outputId": "7acf5ae1-c92e-41b8-f18e-0cb5d92295a7"
      },
      "execution_count": null,
      "outputs": [
        {
          "output_type": "stream",
          "name": "stdout",
          "text": [
            "Enter 'F' for Fahrenheit, or 'C' for Celsius: F\n",
            "Enter temperature in Celsius: 56\n",
            "56.0 Celsius is equal to 132.8 Fahrenheit\n"
          ]
        }
      ]
    },
    {
      "cell_type": "markdown",
      "source": [
        "Activity 10"
      ],
      "metadata": {
        "id": "JQ3B4tONt1Qo"
      }
    },
    {
      "cell_type": "code",
      "source": [
        "def fact(n):\n",
        "  if n < 0:\n",
        "    return None\n",
        "  elif n==1:\n",
        "    return n\n",
        "  else:\n",
        "    return n*fact(n-1)\n",
        "inp=int(input(\"Enter a number\"))\n",
        "print(f\"Factorial of {inp} is {fact(inp)}\")"
      ],
      "metadata": {
        "colab": {
          "base_uri": "https://localhost:8080/"
        },
        "id": "Us8sS_MVuRMs",
        "outputId": "0e5f7d18-8cf4-47c3-8179-e91297cb6095"
      },
      "execution_count": null,
      "outputs": [
        {
          "output_type": "stream",
          "name": "stdout",
          "text": [
            "Enter a number5\n",
            "Factorial of 5 is 120\n"
          ]
        }
      ]
    },
    {
      "cell_type": "code",
      "source": [],
      "metadata": {
        "id": "y1OTZqBAvkkU"
      },
      "execution_count": null,
      "outputs": []
    }
  ]
}
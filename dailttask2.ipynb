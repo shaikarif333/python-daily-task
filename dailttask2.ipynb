{
  "nbformat": 4,
  "nbformat_minor": 0,
  "metadata": {
    "colab": {
      "provenance": []
    },
    "kernelspec": {
      "name": "python3",
      "display_name": "Python 3"
    },
    "language_info": {
      "name": "python"
    }
  },
  "cells": [
    {
      "cell_type": "code",
      "execution_count": 1,
      "metadata": {
        "id": "EeFiq2IKjMfT"
      },
      "outputs": [],
      "source": [
        "#Q1"
      ]
    },
    {
      "cell_type": "code",
      "source": [
        "p=int(input('Enter age 1 '))\n",
        "q=int(input('Enter age 2 '))\n",
        "r=int(input('Enter age 3 '))\n",
        "if(p>q and p>r):\n",
        "  print(f'{p} is largest')\n",
        "elif(q>p and q>r):\n",
        "  print(f'{q} is largest')\n",
        "else:\n",
        "  print(f'{r} is largest')\n",
        "if(p<q and p<r):\n",
        "  print(f'{p} is youngest')\n",
        "elif(q<p and q<\n",
        "     r):\n",
        "  print(f'{q} is youngest')\n",
        "else:\n",
        "  print(f'{r} is youngest')"
      ],
      "metadata": {
        "colab": {
          "base_uri": "https://localhost:8080/"
        },
        "id": "xB_kJA4CmdGv",
        "outputId": "3af3cc4d-ad0d-4f82-b42a-5624faa90cd3"
      },
      "execution_count": 2,
      "outputs": [
        {
          "output_type": "stream",
          "name": "stdout",
          "text": [
            "Enter age 1 23\n",
            "Enter age 2 43\n",
            "Enter age 3 12\n",
            "43 is largest\n",
            "12 is youngest\n"
          ]
        }
      ]
    },
    {
      "cell_type": "code",
      "source": [
        "#Q2"
      ],
      "metadata": {
        "id": "rwp1Sz7FmkuO"
      },
      "execution_count": 3,
      "outputs": []
    },
    {
      "cell_type": "code",
      "source": [
        "mark=int(input('Enter ur mark '))\n",
        "if(mark>=90):\n",
        "  print('A')\n",
        "elif(mark>=80):\n",
        "  print('B')\n",
        "elif(mark>=70):\n",
        "  print('C')\n",
        "else:\n",
        "  print('F')"
      ],
      "metadata": {
        "colab": {
          "base_uri": "https://localhost:8080/"
        },
        "id": "rJaTiUvbmrLh",
        "outputId": "bf73d6e4-cf76-4cc5-c874-9b0c3a36fcab"
      },
      "execution_count": 4,
      "outputs": [
        {
          "output_type": "stream",
          "name": "stdout",
          "text": [
            "Enter ur mark 40\n",
            "F\n"
          ]
        }
      ]
    },
    {
      "cell_type": "code",
      "source": [
        "#Q3"
      ],
      "metadata": {
        "id": "Qz7Bs0BmmuOX"
      },
      "execution_count": 5,
      "outputs": []
    },
    {
      "cell_type": "code",
      "source": [
        "size=int(input('How many elements do u want in ur list? '))\n",
        "list1=[]\n",
        "for i in range(1,size+1):\n",
        "  l=(input('Enter ur list element '))\n",
        "  list1.append(l)\n",
        "list1.sort()\n",
        "list1"
      ],
      "metadata": {
        "colab": {
          "base_uri": "https://localhost:8080/"
        },
        "id": "W7ZdWl8Kmz2W",
        "outputId": "0405c8d9-f2b3-4fcf-cf98-c5babe64fb88"
      },
      "execution_count": 7,
      "outputs": [
        {
          "name": "stdout",
          "output_type": "stream",
          "text": [
            "How many elements do u want in ur list? 3\n",
            "Enter ur list element 1\n",
            "Enter ur list element 2\n",
            "Enter ur list element 3\n"
          ]
        },
        {
          "output_type": "execute_result",
          "data": {
            "text/plain": [
              "['1', '2', '3']"
            ]
          },
          "metadata": {},
          "execution_count": 7
        }
      ]
    },
    {
      "cell_type": "code",
      "source": [
        "#Q4"
      ],
      "metadata": {
        "id": "9pgvpncam2UK"
      },
      "execution_count": 8,
      "outputs": []
    },
    {
      "cell_type": "code",
      "source": [
        "domain=['mail.com','mail.cc','mail.org','mail-archive.com']\n",
        "flag=1\n",
        "while(flag==1):\n",
        "  mail=input('Enter ur mail ')\n",
        "  if(mail.count('@')!=True):\n",
        "    print(f\"The email address {mail} is not valid. Please enter a valid email address.\")\n",
        "    continue\n",
        "  local, d = mail.split(\"@\")\n",
        "  for dom in domain:\n",
        "            if d.endswith(dom):\n",
        "                flag=0\n",
        "                break\n",
        "  else:\n",
        "     print(f\"The email address {mail} is not valid. Please enter a valid email address.\")\n",
        "\n"
      ],
      "metadata": {
        "colab": {
          "base_uri": "https://localhost:8080/"
        },
        "id": "1iN_ACdDm8Xe",
        "outputId": "9d6bb4d6-c80b-4d61-d8ac-bb8110102549"
      },
      "execution_count": 10,
      "outputs": [
        {
          "name": "stdout",
          "output_type": "stream",
          "text": [
            "Enter ur mail abcdefg\n",
            "The email address abcdefg is not valid. Please enter a valid email address.\n",
            "Enter ur mail abc@gmail.com\n"
          ]
        }
      ]
    },
    {
      "cell_type": "code",
      "source": [
        "#Q5"
      ],
      "metadata": {
        "id": "Y-PpjXTMnAm8"
      },
      "execution_count": 11,
      "outputs": []
    },
    {
      "cell_type": "code",
      "source": [
        "days=int(input('How many days delay? '))\n",
        "if(days<=7):\n",
        "  print('No fine')\n",
        "elif(days<=30):\n",
        "  print(days*2)\n",
        "elif(days>30):\n",
        "  print(days*5)"
      ],
      "metadata": {
        "colab": {
          "base_uri": "https://localhost:8080/"
        },
        "id": "epHL_qjunPiO",
        "outputId": "3b8ed5a6-20f2-4bea-f2a2-cccd46ecdcc9"
      },
      "execution_count": 12,
      "outputs": [
        {
          "output_type": "stream",
          "name": "stdout",
          "text": [
            "How many days delay? 2\n",
            "No fine\n"
          ]
        }
      ]
    },
    {
      "cell_type": "code",
      "source": [
        "#Q6"
      ],
      "metadata": {
        "id": "51lGS0iRnR-J"
      },
      "execution_count": 13,
      "outputs": []
    },
    {
      "cell_type": "code",
      "source": [
        "vowels=['a','e','i','o','u']\n",
        "chrtr=input('Enter a charactor ')\n",
        "for i in vowels:\n",
        "  if chrtr==i:\n",
        "    print('vowel')\n",
        "    break\n",
        "else:\n",
        "   print('Not a vowel')\n",
        ""
      ],
      "metadata": {
        "colab": {
          "base_uri": "https://localhost:8080/"
        },
        "id": "dYXKfD_onVbz",
        "outputId": "4bbde9c4-ea0a-4426-a99e-a8fadd8efd83"
      },
      "execution_count": 14,
      "outputs": [
        {
          "output_type": "stream",
          "name": "stdout",
          "text": [
            "Enter a charactor f\n",
            "Not a vowel\n"
          ]
        }
      ]
    },
    {
      "cell_type": "code",
      "source": [
        "#Q7"
      ],
      "metadata": {
        "id": "G0GG2OmGnaYt"
      },
      "execution_count": 15,
      "outputs": []
    },
    {
      "cell_type": "code",
      "source": [
        "num = int(input(\"Enter a number: \"))\n",
        "fact = 1\n",
        "for i in range(1,num+1):\n",
        "    fact*= i\n",
        "print(f\"The factorial of {num} is: {fact}\")"
      ],
      "metadata": {
        "colab": {
          "base_uri": "https://localhost:8080/"
        },
        "id": "RF4qn2tdnhbc",
        "outputId": "bd8fa7a8-c368-443b-bfbe-fc73162d84b5"
      },
      "execution_count": 16,
      "outputs": [
        {
          "output_type": "stream",
          "name": "stdout",
          "text": [
            "Enter a number: 3\n",
            "The factorial of 3 is: 6\n"
          ]
        }
      ]
    },
    {
      "cell_type": "code",
      "source": [
        "#Q8"
      ],
      "metadata": {
        "id": "OYo3tvkhnh7P"
      },
      "execution_count": 17,
      "outputs": []
    },
    {
      "cell_type": "code",
      "source": [
        "lim= int(input(\"Enter the limit: \"))\n",
        "f=0\n",
        "s=1\n",
        "print(f)\n",
        "print(s)\n",
        "for i in range(1,lim-1):\n",
        "  t=f+s\n",
        "  f=s\n",
        "  s=t\n",
        "  print(t)\n"
      ],
      "metadata": {
        "colab": {
          "base_uri": "https://localhost:8080/"
        },
        "id": "bqAHQdV7nlJp",
        "outputId": "336a7e1d-211e-4441-bb3f-ddedfd089058"
      },
      "execution_count": 18,
      "outputs": [
        {
          "output_type": "stream",
          "name": "stdout",
          "text": [
            "Enter the limit: 5\n",
            "0\n",
            "1\n",
            "1\n",
            "2\n",
            "3\n"
          ]
        }
      ]
    },
    {
      "cell_type": "code",
      "source": [
        "#Q9"
      ],
      "metadata": {
        "id": "LmknkCb-noGo"
      },
      "execution_count": 19,
      "outputs": []
    },
    {
      "cell_type": "code",
      "source": [
        "from random import randint\n",
        "f=randint(1,10)\n",
        "for i in range(3):\n",
        "  s=input(\"Enter a num \")\n",
        "  if(s==f):\n",
        "    print('good')\n",
        "    break\n",
        "print(f)"
      ],
      "metadata": {
        "colab": {
          "base_uri": "https://localhost:8080/"
        },
        "id": "1iRdMXTxn3pI",
        "outputId": "8d6d7fad-6fc5-4d5a-e78d-83eb997761d1"
      },
      "execution_count": 20,
      "outputs": [
        {
          "output_type": "stream",
          "name": "stdout",
          "text": [
            "Enter a num 4\n",
            "Enter a num 3\n",
            "Enter a num 6\n",
            "1\n"
          ]
        }
      ]
    },
    {
      "cell_type": "code",
      "source": [
        "#Q10"
      ],
      "metadata": {
        "id": "qxGSolTbn69w"
      },
      "execution_count": 21,
      "outputs": []
    },
    {
      "cell_type": "code",
      "source": [
        "p=True\n",
        "n1=int(input('Enter the first number '))\n",
        "n2=int(input('Enter the second number '))\n",
        "for j in range(2):\n",
        " while(p):\n",
        "  print('add')\n",
        "  print('sub')\n",
        "  print('mul')\n",
        "  print('div')\n",
        "  print('exit')\n",
        "  op=input(\"Enter the operation of your choice: \")\n",
        "  if(op=='add'):\n",
        "   print(n1+n2)\n",
        "  elif(op=='sub'):\n",
        "   print(n1-n2)\n",
        "  elif(op=='mul'):\n",
        "   print(n1*n2)\n",
        "  elif(op=='div'):\n",
        "   print(n1/n2)\n",
        "  elif(op=='exit'):\n",
        "   p=False\n",
        "  else:\n",
        "     print('Select correct option')"
      ],
      "metadata": {
        "colab": {
          "base_uri": "https://localhost:8080/"
        },
        "id": "JHhxa7y2oKeK",
        "outputId": "f6de0e71-841a-41ae-9e3d-8b80c2a0a1a6"
      },
      "execution_count": 22,
      "outputs": [
        {
          "name": "stdout",
          "output_type": "stream",
          "text": [
            "Enter the first number 5\n",
            "Enter the second number 7\n",
            "add\n",
            "sub\n",
            "mul\n",
            "div\n",
            "exit\n",
            "Enter the operation of your choice: div\n",
            "0.7142857142857143\n",
            "add\n",
            "sub\n",
            "mul\n",
            "div\n",
            "exit\n",
            "Enter the operation of your choice: 2\n",
            "Select correct option\n",
            "add\n",
            "sub\n",
            "mul\n",
            "div\n",
            "exit\n",
            "Enter the operation of your choice: mul\n",
            "35\n",
            "add\n",
            "sub\n",
            "mul\n",
            "div\n",
            "exit\n",
            "Enter the operation of your choice: add\n",
            "12\n",
            "add\n",
            "sub\n",
            "mul\n",
            "div\n",
            "exit\n",
            "Enter the operation of your choice: sub\n",
            "-2\n",
            "add\n",
            "sub\n",
            "mul\n",
            "div\n",
            "exit\n",
            "Enter the operation of your choice: exit\n"
          ]
        }
      ]
    },
    {
      "cell_type": "code",
      "source": [],
      "metadata": {
        "id": "S-bNESw8oLCF"
      },
      "execution_count": null,
      "outputs": []
    }
  ]
}